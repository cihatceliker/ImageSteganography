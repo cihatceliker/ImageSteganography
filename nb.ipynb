{
 "cells": [
  {
   "cell_type": "markdown",
   "metadata": {},
   "source": [
    "#### first upscale, then combined then downscale to give importance one or the other?"
   ]
  },
  {
   "cell_type": "code",
   "execution_count": 1,
   "metadata": {},
   "outputs": [],
   "source": [
    "from PIL import Image\n",
    "import numpy as np\n",
    "import warnings\n",
    "import requests\n",
    "from core import _from_url, _handle_images, _combine_images, _get_hidden_images"
   ]
  },
  {
   "cell_type": "code",
   "execution_count": null,
   "metadata": {},
   "outputs": [],
   "source": [
    "url = \"https://hips.hearstapps.com/hmg-prod.s3.amazonaws.com/images/dog-puppy-on-garden-royalty-free-image-1586966191.jpg?crop=1.00xw:0.669xh;0,0.190xh&resize=980:*\"\n",
    "images = [np.array(Image.open(f\"dog{i}.jpg\")) for i in range(1, 5)]\n",
    "images.append(\"https://i.insider.com/5484d9d1eab8ea3017b17e29?width=600&format=jpeg&auto=webp\")\n",
    "images.append(url)\n",
    "TEXT = \"be at 36.896891-30.713323 at 11:00:00 GMT\"\n",
    "# since the data is an image, the program will use 8 bits (0, 255)\n",
    "BYTE = 8"
   ]
  },
  {
   "cell_type": "code",
   "execution_count": null,
   "metadata": {},
   "outputs": [],
   "source": [
    "ims = _handle_images(images)"
   ]
  },
  {
   "cell_type": "code",
   "execution_count": null,
   "metadata": {},
   "outputs": [],
   "source": [
    "Image.fromarray(_combine_images(ims[:4]) >> 0 << 6)"
   ]
  },
  {
   "cell_type": "code",
   "execution_count": null,
   "metadata": {},
   "outputs": [],
   "source": [
    "def _text_to_binary(text: str, max_length: int) -> np.ndarray:\n",
    "    \"\"\"\n",
    "    \"\"\"\n",
    "    # chars to ascii\n",
    "    ord_text = [ord(ch) for ch in text]\n",
    "    if max(ord_text) > 255:\n",
    "        warnings.warn(\"\"\"\n",
    "            Warning: Chars with ascii codes higher than \n",
    "                     255 is not supported and will be lost\"\"\")\n",
    "        ord_text = [min(ord_, 255) for ord_ in ord_text]\n",
    "    \n",
    "    # padding the text with whitespace until it reaches the max length \n",
    "    ord_text = ord_text + [32 for _ in range(max_length-len(ord_text))]\n",
    "    # converting ascii codes to their byte represantation\n",
    "    ord_text = [(\"0\"*BYTE+\"{0:b}\".format(num))[-BYTE:] for num in ord_text]\n",
    "    # converting it to 1's and 0's\n",
    "    return np.array(list(map(int, \"\".join(ord_text))))"
   ]
  },
  {
   "cell_type": "markdown",
   "metadata": {},
   "source": [
    "one function that takes:\n",
    "- multiple images -> combines them and returns the combined image\n",
    "- one image and key:\n",
    "    - if text is passed:\n",
    "        - encodes the image and returns image with encoded data\n",
    "    - if no text:\n",
    "        - decodes the image and returns the text\n",
    "- one image and num_hidden:\n",
    "    - number of hidden images needs to be passed\n",
    "    - return the extracted images.\n",
    "- raise error. or adds some default and try to return something meaningful"
   ]
  },
  {
   "cell_type": "code",
   "execution_count": null,
   "metadata": {},
   "outputs": [],
   "source": [
    "def hider(*images, key: int=None, num_hidden: int=None, text: str=None):\n",
    "    if len(images) == 0:\n",
    "        raise Exception(\"Error: No image passed.\")\n",
    "    images = _handle_images(images)\n",
    "    if len(images) > 1:\n",
    "        return _combine_images(images)\n",
    "    # just to indicate\n",
    "    assert len(images) == 1\n",
    "    image = images[0]\n",
    "    \n",
    "    if not key and not num_hidden:\n",
    "        raise Exception(\"Error: key or num_hidden is needed.\")\n",
    "    if key:\n",
    "        if num_hidden:\n",
    "            raise Exception(\"\"\"Error: Passing both key and num_hidden is unnecessary. \n",
    "                                            What is your intention?\"\"\")\n",
    "        if text:\n",
    "            return _encode_image_with_text(image, text=text, key=key)\n",
    "        else: # no text\n",
    "            return _decode_image(image, key=key)\n",
    "    # just to indicate\n",
    "    assert num_hidden != None\n",
    "    return _get_hidden_images(image, num_hidden)"
   ]
  },
  {
   "cell_type": "code",
   "execution_count": null,
   "metadata": {},
   "outputs": [],
   "source": [
    "Image.fromarray(hider(IMAGES[0], IMAGES[1]))"
   ]
  },
  {
   "cell_type": "code",
   "execution_count": null,
   "metadata": {},
   "outputs": [],
   "source": [
    "Image.fromarray(hider(IMAGES[0], key=1, text=\"asdasldksal\"))"
   ]
  },
  {
   "cell_type": "code",
   "execution_count": null,
   "metadata": {},
   "outputs": [],
   "source": [
    "def _encode_image_with_text(org_data: np.ndarray, \n",
    "            text: str, \n",
    "            key: int, \n",
    "            max_length: int=50, \n",
    "            nnoise: int=1) -> np.ndarray:\n",
    "    \"\"\"\n",
    "    \"\"\"\n",
    "    # the function works with the flattened data\n",
    "    data = org_data.reshape(np.prod(org_data.shape)).copy()\n",
    "    # the key is used for generating the random indexes in the flattened data\n",
    "    np.random.seed(key)\n",
    "    if max_length*BYTE > data.shape[0]:\n",
    "        raise Exception(\"Error: Image size is to small for the text.\")\n",
    "    idxs = np.random.choice(data.shape[0], max_length*BYTE, replace=False)\n",
    "    # converting the text to 1's and 0's for storing\n",
    "    hidden = _text_to_binary(text, max_length)\n",
    "    # out of all the indexes, it only changes the ones that dont \n",
    "    # match already, by subtracting 1 (changes the leftmost bit)\n",
    "    data[idxs[hidden != data[idxs]%2]] -= 1\n",
    "    \n",
    "    # if someone else has the original image, part of the text could be\n",
    "    # uncovered, so now will add random noise(salt?) to some other indexes\n",
    "    # nnoise is a variable that controls the number of noise is added\n",
    "    # more nnoise is more secure but also means more changes to the original\n",
    "    if nnoise*max_length*BYTE > data.shape[0]:\n",
    "        nnoise = data.shape[0]//(max_length*BYTE)\n",
    "        warnings.warn(\"Warning: Lowering the nnoise.\")\n",
    "    noise_idxs = np.random.choice(data.shape[0], nnoise*max_length*BYTE, replace=False)\n",
    "    # filtering the ones thats in the hidden text's indexes\n",
    "    noise_idxs = np.setdiff1d(noise_idxs, idxs)\n",
    "    # adding the noise\n",
    "    data[noise_idxs] -= 1\n",
    "    # return the reshaped flattened data with the original shape\n",
    "    return data.reshape(org_data.shape)"
   ]
  },
  {
   "cell_type": "code",
   "execution_count": null,
   "metadata": {},
   "outputs": [],
   "source": [
    "def _decode_image(encoded_data: np.ndarray, \n",
    "            key: int=0, \n",
    "            max_length: int=50) -> str:\n",
    "    # flattenes the encoded image\n",
    "    data = encoded_data.reshape(np.prod(encoded_data.shape)).copy()\n",
    "    # sets the key and gets the indexes of the hidden text\n",
    "    np.random.seed(key)\n",
    "    idxs = np.random.choice(data.shape[0], max_length*BYTE, replace=False)\n",
    "    # takes the leftmost bits from the indexes\n",
    "    s = \"\".join(map(str, data[idxs]%2))\n",
    "    # splits the bits into groups of bytes\n",
    "    s = [s[i:i+BYTE] for i in range(0, len(s), BYTE)]\n",
    "    # first, converts each of the bytes to ascii code then to chars\n",
    "    # and gets the encoded text within the image\n",
    "    s = \"\".join([chr(int(bin_, base=2)) for bin_ in s])\n",
    "    # removes paddings and returns the text\n",
    "    return s.strip()"
   ]
  }
 ],
 "metadata": {
  "kernelspec": {
   "display_name": "Python 3",
   "language": "python",
   "name": "python3"
  },
  "language_info": {
   "codemirror_mode": {
    "name": "ipython",
    "version": 3
   },
   "file_extension": ".py",
   "mimetype": "text/x-python",
   "name": "python",
   "nbconvert_exporter": "python",
   "pygments_lexer": "ipython3",
   "version": "3.8.5"
  }
 },
 "nbformat": 4,
 "nbformat_minor": 4
}
