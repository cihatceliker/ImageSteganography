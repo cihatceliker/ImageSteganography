{
 "cells": [
  {
   "cell_type": "code",
   "execution_count": 1,
   "metadata": {},
   "outputs": [],
   "source": [
    "import numpy as np"
   ]
  },
  {
   "cell_type": "code",
   "execution_count": 2,
   "metadata": {},
   "outputs": [],
   "source": [
    "from PIL import Image\n",
    "from src.hider.core import image_in_image\n",
    "\n",
    "image_fn = [\"figs/cover_image.jpg\", \n",
    "            \"figs/hidden1.jpg\", \"figs/hidden2.png\", \n",
    "            \"figs/hidden3.jpg\", \"figs/hidden4.png\"]\n",
    "images = [Image.open(image) for image in image_fn]"
   ]
  },
  {
   "cell_type": "code",
   "execution_count": 24,
   "metadata": {},
   "outputs": [],
   "source": [
    "image = image_in_image(*images, key=1, ratio=6)"
   ]
  },
  {
   "cell_type": "code",
   "execution_count": 25,
   "metadata": {},
   "outputs": [],
   "source": [
    "org_and_comb = np.concatenate([np.array(image), np.ones((1,1280,3), dtype=np.uint8) * 255,\n",
    "                               np.array(images[0])], axis=0)"
   ]
  },
  {
   "cell_type": "code",
   "execution_count": 26,
   "metadata": {},
   "outputs": [],
   "source": [
    "Image.fromarray(org_and_comb).save(\"original_and_combined.png\")"
   ]
  },
  {
   "cell_type": "code",
   "execution_count": 27,
   "metadata": {},
   "outputs": [],
   "source": [
    "hidden_images = image_in_image(image, key=1, ratio=6)"
   ]
  },
  {
   "cell_type": "markdown",
   "metadata": {},
   "source": [
    "***"
   ]
  },
  {
   "cell_type": "raw",
   "metadata": {},
   "source": [
    "image.save(\"r2_cover.png\")\n",
    "for i, hid in enumerate(hidden_images):\n",
    "    hid.save(f\"r2_hid{i}.png\")"
   ]
  },
  {
   "cell_type": "code",
   "execution_count": 28,
   "metadata": {},
   "outputs": [],
   "source": [
    "hids = [np.concatenate([np.array(hid), \n",
    "                        np.ones((400,400,1), dtype=np.uint8)*255], axis=2) for hid in hidden_images]\n",
    "conc = hids[0].copy()\n",
    "filler_im = np.zeros((400,10,4), dtype=np.uint8)\n",
    "#filler_im.fill(255)\n",
    "for hid in hids[1:]:\n",
    "    conc = np.concatenate([conc, filler_im], axis=1)\n",
    "    conc = np.concatenate([conc, hid], axis=1)\n",
    "Image.fromarray(conc).save(\"outputs.png\")"
   ]
  }
 ],
 "metadata": {
  "kernelspec": {
   "display_name": "Python 3",
   "language": "python",
   "name": "python3"
  },
  "language_info": {
   "codemirror_mode": {
    "name": "ipython",
    "version": 3
   },
   "file_extension": ".py",
   "mimetype": "text/x-python",
   "name": "python",
   "nbconvert_exporter": "python",
   "pygments_lexer": "ipython3",
   "version": "3.8.5"
  }
 },
 "nbformat": 4,
 "nbformat_minor": 4
}
