{
 "cells": [
  {
   "cell_type": "markdown",
   "metadata": {},
   "source": [
    "### Try to break it afterwards"
   ]
  },
  {
   "cell_type": "markdown",
   "metadata": {},
   "source": [
    "#### Hide data Without changing anything.\n",
    "#### How much can you store??"
   ]
  },
  {
   "cell_type": "code",
   "execution_count": 1,
   "metadata": {},
   "outputs": [],
   "source": [
    "import matplotlib.pyplot as plt\n",
    "import matplotlib.image as img\n",
    "import numpy as np"
   ]
  },
  {
   "cell_type": "code",
   "execution_count": 9,
   "metadata": {},
   "outputs": [],
   "source": [
    "DATA = np.array(img.imread(\"dog.jpg\"))\n",
    "TEXT = open(\"nb.ipynb\", \"r\").read()#\"be at 36.896891-30.713323 at 11:00:00 GMT\""
   ]
  },
  {
   "cell_type": "code",
   "execution_count": null,
   "metadata": {},
   "outputs": [],
   "source": [
    "def encoder(org_data, text, key=0, bit_length=8, max_length=50, lsb=1):\n",
    "    data = org_data.reshape(np.prod(org_data.shape)).copy()\n",
    "    ord_text = [ord(ch) for ch in text]\n",
    "    ord_text = ord_text + [32 for _ in range(max_length-len(ord_text))]\n",
    "    \n",
    "    ord_text = [\"{0:b}\".format(num) for num in ord_text]\n",
    "    ord_text = [\"0\"*(bit_length-len(k)) + k for k in ord_text]\n",
    "    hidden = np.array(list(map(int, \"\".join(ord_text))))\n",
    "    np.random.seed(key)\n",
    "    idxs = np.random.choice(data.shape[0], max_length*bit_length, replace=False)\n",
    "    if lsb == 1:\n",
    "        data[idxs[hidden != data[idxs]%2]] -= 1\n",
    "    elif lsb == 2:\n",
    "        pass\n",
    "    else:\n",
    "        raise \"Not supported\"\n",
    "    return data.reshape(org_data.shape)"
   ]
  },
  {
   "cell_type": "code",
   "execution_count": null,
   "metadata": {},
   "outputs": [],
   "source": [
    "def decoder(encoded_data, key=0, bit_length=8, max_length=50):\n",
    "    data = np.reshape(encoded_data, np.prod(encoded_data.shape))\n",
    "    np.random.seed(key)\n",
    "    idxs = np.random.choice(data.shape[0], max_length*bit_length, replace=False)\n",
    "    s = \"\".join(map(str, data[idxs]%2))\n",
    "    s = [s[i:i+bit_length] for i in range(0, len(s), bit_length)]\n",
    "    s = \"\".join([chr(int(bin_, base=2)) for bin_ in s])\n",
    "    return s.strip()"
   ]
  },
  {
   "cell_type": "code",
   "execution_count": 10,
   "metadata": {},
   "outputs": [],
   "source": [
    "text =TEXT"
   ]
  },
  {
   "cell_type": "code",
   "execution_count": 13,
   "metadata": {},
   "outputs": [
    {
     "data": {
      "text/plain": [
       "125"
      ]
     },
     "execution_count": 13,
     "metadata": {},
     "output_type": "execute_result"
    }
   ],
   "source": [
    "max([ord(ch) for ch in text])"
   ]
  },
  {
   "cell_type": "code",
   "execution_count": 17,
   "metadata": {},
   "outputs": [],
   "source": [
    "ord_text = [ord(ch) for ch in text]\n",
    "ord_text = [\"{0:b}\".format(num) for num in ord_text]\n",
    "ord_text = [\"0\"*(8-len(k)) + k for k in ord_text]"
   ]
  },
  {
   "cell_type": "code",
   "execution_count": null,
   "metadata": {},
   "outputs": [],
   "source": [
    "ord_text"
   ]
  },
  {
   "cell_type": "code",
   "execution_count": 19,
   "metadata": {},
   "outputs": [],
   "source": [
    "\n",
    "hidden = np.array(list(map(int, \"\".join(ord_text))))"
   ]
  },
  {
   "cell_type": "code",
   "execution_count": 21,
   "metadata": {},
   "outputs": [
    {
     "data": {
      "text/plain": [
       "194824"
      ]
     },
     "execution_count": 21,
     "metadata": {},
     "output_type": "execute_result"
    }
   ],
   "source": [
    "len(hidden)"
   ]
  },
  {
   "cell_type": "code",
   "execution_count": null,
   "metadata": {},
   "outputs": [],
   "source": [
    "len(TEXT) * 8"
   ]
  },
  {
   "cell_type": "code",
   "execution_count": null,
   "metadata": {},
   "outputs": [],
   "source": [
    "np.prod(DATA.shape)"
   ]
  },
  {
   "cell_type": "code",
   "execution_count": null,
   "metadata": {
    "scrolled": true
   },
   "outputs": [],
   "source": [
    "image = encoder(DATA, \"be at 36.896891-30.713323 at 11:00:00 GMT\")\n",
    "plt.imshow(image);"
   ]
  },
  {
   "cell_type": "code",
   "execution_count": null,
   "metadata": {},
   "outputs": [],
   "source": [
    "decoder(image)"
   ]
  },
  {
   "cell_type": "code",
   "execution_count": null,
   "metadata": {},
   "outputs": [],
   "source": [
    "int(\"\".join([str(s) for s in [1,1,1,1,1,1,1,1]]), base=2)"
   ]
  },
  {
   "cell_type": "code",
   "execution_count": null,
   "metadata": {},
   "outputs": [],
   "source": [
    "\n",
    "# randomly add noise to other pixels thats not in the encryption so that breaking it would be near impossible\n",
    "# depending on the number of extra noisy pixels. which one is the right one???\n",
    "\n",
    "data[idxs // data.shape[0], idxs % data.shape[1], channels] -= np.max(ord_text, 0)"
   ]
  },
  {
   "cell_type": "code",
   "execution_count": null,
   "metadata": {
    "scrolled": true
   },
   "outputs": [],
   "source": [
    "image = encoder(data, text)\n",
    "plt.imshow(image)"
   ]
  },
  {
   "cell_type": "code",
   "execution_count": null,
   "metadata": {},
   "outputs": [],
   "source": [
    "decoder(data)"
   ]
  },
  {
   "cell_type": "code",
   "execution_count": null,
   "metadata": {},
   "outputs": [],
   "source": [
    "from PIL import Image\n",
    "import requests\n",
    "url = \"https://hips.hearstapps.com/hmg-prod.s3.amazonaws.com/images/dog-puppy-on-garden-royalty-free-image-1586966191.jpg?crop=1.00xw:0.669xh;0,0.190xh&resize=980:*\"\n",
    "image = Image.open(requests.get(url, stream=True).raw)"
   ]
  },
  {
   "cell_type": "code",
   "execution_count": null,
   "metadata": {},
   "outputs": [],
   "source": [
    "decoder(np.array(image))"
   ]
  }
 ],
 "metadata": {
  "kernelspec": {
   "display_name": "Python 3",
   "language": "python",
   "name": "python3"
  },
  "language_info": {
   "codemirror_mode": {
    "name": "ipython",
    "version": 3
   },
   "file_extension": ".py",
   "mimetype": "text/x-python",
   "name": "python",
   "nbconvert_exporter": "python",
   "pygments_lexer": "ipython3",
   "version": "3.8.5"
  }
 },
 "nbformat": 4,
 "nbformat_minor": 4
}
