{
 "cells": [
  {
   "cell_type": "code",
   "execution_count": 1,
   "metadata": {},
   "outputs": [],
   "source": [
    "from PIL import Image\n",
    "import numpy as np\n",
    "import warnings\n",
    "import requests"
   ]
  },
  {
   "cell_type": "code",
   "execution_count": 2,
   "metadata": {},
   "outputs": [],
   "source": [
    "IMAGES = [np.array(Image.open(f\"dog{i}.jpg\").resize(size=(400, 400))) for i in range(1, 5)]\n",
    "TEXT = \"be at 36.896891-30.713323 at 11:00:00 GMT\"\n",
    "# since the data is an image, the program will use 8 bits (0, 255)\n",
    "BYTE = 8"
   ]
  },
  {
   "cell_type": "code",
   "execution_count": null,
   "metadata": {},
   "outputs": [],
   "source": [
    "Image.fromarray(_combine_images(IMAGES)>>6<<6)"
   ]
  },
  {
   "cell_type": "code",
   "execution_count": null,
   "metadata": {},
   "outputs": [],
   "source": [
    "_combine_images(IMAGES)"
   ]
  },
  {
   "cell_type": "code",
   "execution_count": 38,
   "metadata": {},
   "outputs": [],
   "source": [
    "def _combine_images(images):\n",
    "    \"\"\"Expects a list of images.\"\"\"\n",
    "    if len(images) == 4:\n",
    "        return sum([image >> 6 << i for (image, i) in zip(images, range(6, -1, -2))])\n",
    "    if len(images) == 3:\n",
    "        return (images[0] >> 5 << 5) + (images[1] >> 5 << 2) + (images[2] >> 6)\n",
    "    if len(images) == 2:\n",
    "        return (images[0] >> 4 << 4) + (images[1] >> 4)\n",
    "    raise Exception(\"To use the function, number of images should be from 2 to 4 inclusive.\")"
   ]
  },
  {
   "cell_type": "code",
   "execution_count": 58,
   "metadata": {},
   "outputs": [],
   "source": [
    "def _get_hidden_image(combined_image, num_hidden=2):\n",
    "    \"\"\"Returns lists of images.\"\"\"\n",
    "    if num_hidden == 4:\n",
    "        return [Image.fromarray(combined_image>>i<<6) for i in range(6, -1, -2)]\n",
    "    if num_hidden == 3:\n",
    "        return [Image.fromarray(im) for im in [(combined >> 5 << 5), \n",
    "                                               (combined >> 2 << 5), (combined << 6)]]\n",
    "    if num_hidden == 2:\n",
    "        return Image.fromarray(combined_image>>4<<4), Image.fromarray(combined_image<<4)\n",
    "    raise Exception(\"Range of the number of images is [2, 4].\")"
   ]
  },
  {
   "cell_type": "code",
   "execution_count": null,
   "metadata": {},
   "outputs": [],
   "source": [
    "_get_hidden_image(_combine_images(IMAGES[:4]), 4)[0]"
   ]
  },
  {
   "cell_type": "code",
   "execution_count": null,
   "metadata": {},
   "outputs": [],
   "source": [
    "def _from_url(url):\n",
    "    \"\"\"\n",
    "    \"\"\"\n",
    "    return np.array(Image.open(requests.get(url, stream=True).raw))"
   ]
  },
  {
   "cell_type": "code",
   "execution_count": null,
   "metadata": {},
   "outputs": [],
   "source": [
    "def _text_to_binary(text, max_length):\n",
    "    \"\"\"\n",
    "    \"\"\"\n",
    "    # chars to ascii\n",
    "    ord_text = [ord(ch) for ch in text]\n",
    "    if max(ord_text) > 255:\n",
    "        warnings.warn(\"\"\"\n",
    "            Warning: Chars with ascii codes higher than \n",
    "                     255 is not supported and will be lost\"\"\")\n",
    "        ord_text = [min(ord_, 255) for ord_ in ord_text]\n",
    "    \n",
    "    # padding the text with whitespace until it reaches the max length \n",
    "    ord_text = ord_text + [32 for _ in range(max_length-len(ord_text))]\n",
    "    # converting ascii codes to their byte represantation\n",
    "    ord_text = [(\"0\"*BYTE+\"{0:b}\".format(num))[-BYTE:] for num in ord_text]\n",
    "    # converting it to 1's and 0's\n",
    "    return np.array(list(map(int, \"\".join(ord_text))))"
   ]
  },
  {
   "cell_type": "code",
   "execution_count": null,
   "metadata": {},
   "outputs": [],
   "source": [
    "def encoder(org_data, text, key=0, max_length=50, nnoise=10):\n",
    "    \"\"\"\n",
    "    \"\"\"\n",
    "    # the function works with the flattened data\n",
    "    data = org_data.reshape(np.prod(org_data.shape)).copy()\n",
    "    # the key is used for generating the random indexes in the flattened data\n",
    "    np.random.seed(key)\n",
    "    if max_length*BYTE > data.shape[0]:\n",
    "        raise Exception(\"Error: Image size is to small for the text.\")\n",
    "    idxs = np.random.choice(data.shape[0], max_length*BYTE, replace=False)\n",
    "    # converting the text to 1's and 0's for storing\n",
    "    hidden = _text_to_binary(text, max_length)\n",
    "    # out of all the indexes, it only changes the ones that dont \n",
    "    # match already, by subtracting 1 (changes the leftmost bit)\n",
    "    data[idxs[hidden != data[idxs]%2]] -= 1\n",
    "    \n",
    "    # if someone else has the original image, part of the text could be\n",
    "    # uncovered, so now will add random noise(salt?) to some other indexes\n",
    "    # nnoise is a variable that controls the number of noise is added\n",
    "    # more nnoise is more secure but also means more changes to the original\n",
    "    if nnoise*max_length*BYTE > data.shape[0]:\n",
    "        nnoise = data.shape[0]//(max_length*BYTE)\n",
    "        warnings.warn(\"Warning: Lowering the nnoise.\")\n",
    "    noise_idxs = np.random.choice(data.shape[0], nnoise*max_length*BYTE, replace=False)\n",
    "    # filtering the ones thats in the hidden text's indexes\n",
    "    noise_idxs = np.setdiff1d(noise_idxs, idxs)\n",
    "    # adding the noise\n",
    "    data[noise_idxs] -= 1\n",
    "    # return the reshaped flattened data with the original shape\n",
    "    return data.reshape(org_data.shape)"
   ]
  },
  {
   "cell_type": "code",
   "execution_count": null,
   "metadata": {},
   "outputs": [],
   "source": [
    "def decoder(encoded_data, key=0, max_length=50):\n",
    "    # flattenes the encoded image\n",
    "    data = encoded_data.reshape(np.prod(encoded_data.shape)).copy()\n",
    "    # sets the key and gets the indexes of the hidden text\n",
    "    np.random.seed(key)\n",
    "    idxs = np.random.choice(data.shape[0], max_length*BYTE, replace=False)\n",
    "    # takes the leftmost bits from the indexes\n",
    "    s = \"\".join(map(str, data[idxs]%2))\n",
    "    # splits the bits into groups of bytes\n",
    "    s = [s[i:i+BYTE] for i in range(0, len(s), BYTE)]\n",
    "    # first, converts each of the bytes to ascii code then to chars\n",
    "    # and gets the encoded text within the image\n",
    "    s = \"\".join([chr(int(bin_, base=2)) for bin_ in s])\n",
    "    # removes paddings and returns the text\n",
    "    return s.strip()"
   ]
  },
  {
   "cell_type": "code",
   "execution_count": null,
   "metadata": {},
   "outputs": [],
   "source": [
    "url = \"https://hips.hearstapps.com/hmg-prod.s3.amazonaws.com/images/dog-puppy-on-garden-royalty-free-image-1586966191.jpg?crop=1.00xw:0.669xh;0,0.190xh&resize=980:*\"\n",
    "image = from_url(url)"
   ]
  },
  {
   "cell_type": "code",
   "execution_count": null,
   "metadata": {},
   "outputs": [],
   "source": [
    "image = encoder(IMAGES[0], \"be at 36.896891-30.713323 at 11:00:00 GMT\")\n",
    "Image.fromarray(image)"
   ]
  },
  {
   "cell_type": "code",
   "execution_count": null,
   "metadata": {},
   "outputs": [],
   "source": [
    "decoder(image)"
   ]
  }
 ],
 "metadata": {
  "kernelspec": {
   "display_name": "Python 3",
   "language": "python",
   "name": "python3"
  },
  "language_info": {
   "codemirror_mode": {
    "name": "ipython",
    "version": 3
   },
   "file_extension": ".py",
   "mimetype": "text/x-python",
   "name": "python",
   "nbconvert_exporter": "python",
   "pygments_lexer": "ipython3",
   "version": "3.8.5"
  }
 },
 "nbformat": 4,
 "nbformat_minor": 4
}
